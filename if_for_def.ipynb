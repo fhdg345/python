{
  "nbformat": 4,
  "nbformat_minor": 0,
  "metadata": {
    "colab": {
      "provenance": [],
      "authorship_tag": "ABX9TyOucr3uZROUiw/1NQCZgvEh",
      "include_colab_link": true
    },
    "kernelspec": {
      "name": "python3",
      "display_name": "Python 3"
    },
    "language_info": {
      "name": "python"
    }
  },
  "cells": [
    {
      "cell_type": "markdown",
      "metadata": {
        "id": "view-in-github",
        "colab_type": "text"
      },
      "source": [
        "<a href=\"https://colab.research.google.com/github/fhdg345/python/blob/master/if_for_def.ipynb\" target=\"_parent\"><img src=\"https://colab.research.google.com/assets/colab-badge.svg\" alt=\"Open In Colab\"/></a>"
      ]
    },
    {
      "cell_type": "code",
      "execution_count": null,
      "metadata": {
        "id": "rkAoQI0Jh4gQ"
      },
      "outputs": [],
      "source": []
    },
    {
      "cell_type": "markdown",
      "source": [
        "조건문 in python\n",
        "\n",
        "조건문은 특정 조건을 검사하여 해당 조건이 참(True)인 경우에만 특정 작업을 수행하는 구문입니다. Python에서는 다음과 같은 두 가지 종류의 조건문을 사용할 수 있습니다.\n",
        "\n",
        "if문\n",
        "if문은 특정 조건이 참(True)인 경우에만 특정 작업을 수행하는 구문입니다. if문의 기본적인 구문은 다음과 같습니다.\n",
        "\n",
        "markdown\n",
        "Copy code\n",
        "if 조건식:\n",
        "    수행할 작업1\n",
        "    수행할 작업2\n",
        "    ...\n",
        "조건식이 참(True)일 경우에만 수행할 작업1, 작업2, ... 등이 실행됩니다. 조건식이 거짓(False)일 경우에는 수행할 작업이 없이 그냥 넘어갑니다. 조건식은 반드시 True 또는 False를 반환하는 식이어야 합니다.\n",
        "\n",
        "if-else문\n",
        "if-else문은 if문과 마찬가지로 특정 조건이 참(True)인 경우에만 특정 작업을 수행하는 구문입니다. 하지만 if문과 달리 조건식이 거짓(False)인 경우에는 else 블록에 있는 코드가 실행됩니다.\n",
        "\n",
        "arduino\n",
        "Copy code\n",
        "if 조건식:\n",
        "    수행할 작업1\n",
        "    수행할 작업2\n",
        "    ...\n",
        "else:\n",
        "    수행할 작업3\n",
        "    수행할 작업4\n",
        "    ...\n",
        "조건식이 참(True)일 경우에는 if 블록에 있는 코드가 실행되고, 조건식이 거짓(False)일 경우에는 else 블록에 있는 코드가 실행됩니다."
      ],
      "metadata": {
        "id": "GJB6ZdlslH2Q"
      }
    },
    {
      "cell_type": "code",
      "source": [
        "x=15\n",
        "if x>10; #if조건식:\n",
        "  print(\"ㅎㅎㅎ\")\n",
        "elif x==2: #조건식\n",
        "  print(\"ㅗㅗㅗ\")\n",
        "  \n",
        "  else:\n",
        "    print(\"else\")\n",
        "    print(\"x is less than 10\")\n"
      ],
      "metadata": {
        "id": "V0j2AwmslJPI"
      },
      "execution_count": null,
      "outputs": []
    },
    {
      "cell_type": "markdown",
      "source": [
        "fhdg345@naver.com\n",
        "indent in python은?\n",
        "\n",
        "Python에서 들여쓰기는 코드 블록의 시작과 끝을 나타내는 데 사용됩니다. 들여쓰기는 다른 프로그래밍 언어에서 중괄호 또는 begin-end와 같은 다른 기호로 대체될 수 있습니다.\n",
        "\n",
        "들여쓰기를 사용하여 코드 블록을 만들 때, 들여쓰기 된 모든 코드는 동일한 수준의 들여쓰기를 가진 블록으로 간주됩니다. Python에서 들여쓰기는 4개의 공백 또는 1개의 탭 문자를 사용하여 나타낼 수 있습니다. 그러나 일반적으로 Python 커뮤니티에서는 4개의 공백을 사용하는 것이 권장됩니다.\n",
        "\n",
        "예를 들어, if 문에서의 들여쓰기는 다음과 같습니다.\n",
        "\n",
        "python\n",
        "Copy code\n",
        "if x > 0:\n",
        "    print(\"x is positive\")\n",
        "else:\n",
        "    print(\"x is non-positive\")\n",
        "또 다른 예로, for 루프에서의 들여쓰기는 다음과 같습니다.\n",
        "\n",
        "python\n",
        "Copy code\n",
        "for i in range(10):\n",
        "    print(i)\n",
        "주의할 점은 들여쓰기가 일치하지 않으면 구문 오류가 발생할 수 있다는 것입니다. 따라서 Python을 작성할 때 들여쓰기를 정확하게 유지하는 것이"
      ],
      "metadata": {
        "id": "nDHfSjpam9fk"
      }
    },
    {
      "cell_type": "markdown",
      "source": [
        "관계연산자 in python\n",
        "\n",
        "Python에서 관계 연산자는 두 값 간의 관계를 비교하는 데 사용됩니다. 이러한 연산자는 주로 조건문과 루프에서 사용되며, 프로그래머가 특정 조건을 검사하거나 비교하여 결과에 따라 코드의 흐름을 제어하는 데 사용됩니다.\n",
        "\n",
        "다음은 Python에서 사용 가능한 관계 연산자입니다.\n",
        "\n",
        "==: 값이 같은 경우 True를 반환합니다.\n",
        "!=: 값이 다른 경우 True를 반환합니다.\n",
        "<: 왼쪽 값이 오른쪽 값보다 작은 경우 True를 반환합니다.\n",
        ">: 왼쪽 값이 오른쪽 값보다 큰 경우 True를 반환합니다.\n",
        "<=: 왼쪽 값이 오른쪽 값보다 작거나 같은 경우 True를 반환합니다.\n",
        ">=: 왼쪽 값이 오른쪽 값보다 크거나 같은 경우 True를 반환합니다.\n",
        "in: 왼쪽 값이 오른쪽 값에 속하는 경우 True를 반환합니다.\n",
        "not in: 왼쪽 값이 오른쪽 값에 속하지 않는 경우 True를 반환합니다.\n",
        "in 연산자는 시퀀스(문자열, 리스트, 튜플 등)에 특정 값이 포함되어 있는지를 검사하는 데 사용됩니다. not in 연산자는 반대로 시퀀스에 값이 포함되어 있지 않은지를 검사합니다.\n",
        "\n",
        "다음은 in 연산자의 사용 예시입니다.\n",
        "\n",
        "python\n",
        "Copy code\n",
        "fruits = ['apple', 'banana', 'cherry']\n",
        "if 'banana' in fruits:\n",
        "    print(\"Yes, banana is in the fruits list\")\n",
        "위 코드는 \"Yes, banana is in the fruits list\"를 출력합니다. 'banana'이 fruits 리스트에 포함되어 있으므로 조건이 참이 됩니다.\n",
        "\n",
        "not in 연산자의 사용 예시는 다음과 같습니다.\n",
        "\n",
        "python\n",
        "Copy code\n",
        "if 'orange' not in fruits:\n",
        "    print(\"No, orange is not in the fruits list\")\n",
        "위 코드는 \"No, orange is not in the fruits list\"를 출력합니다. 'orange'가 fruits 리스트에 포함되어 있지 않으므로 조건이 참이 됩니다.\n",
        "\n",
        "\n",
        "\n",
        "\n"
      ],
      "metadata": {
        "id": "Wuozik82rKt5"
      }
    },
    {
      "cell_type": "code",
      "source": [],
      "metadata": {
        "id": "cJzrY5F5rMv9"
      },
      "execution_count": null,
      "outputs": []
    },
    {
      "cell_type": "markdown",
      "source": [
        "논리 연산자 in python\n",
        "\n",
        "Python에서는 세 가지 논리 연산자인 and, or, not을 사용할 수 있습니다. 이러한 논리 연산자는 주로 조건문에서 사용되며, 논리적인 참/거짓 값을 결합하거나 반전시켜 조건식을 평가하는 데 사용됩니다.\n",
        "\n",
        "and: 양쪽 피연산자가 모두 참이면 True를 반환합니다.\n",
        "or: 양쪽 피연산자 중 하나라도 참이면 True를 반환합니다.\n",
        "not: 피연산자의 논리적 반전 값을 반환합니다.\n",
        "다음은 각 논리 연산자의 동작을 보여주는 예제입니다.\n",
        "\n",
        "python\n",
        "Copy code\n",
        "x = 5\n",
        "y = 10\n",
        "z = 15\n",
        "\n",
        "# and 연산자\n",
        "if x < y and y < z:\n",
        "    print(\"x is less than y, and y is less than z\")\n",
        "\n",
        "# or 연산자\n",
        "if x > y or y < z:\n",
        "    print(\"x is greater than y, or y is less than z\")\n",
        "\n",
        "# not 연산자\n",
        "if not x == y:\n",
        "    print(\"x is not equal to y\")\n",
        "위 코드에서, 첫 번째 if 문에서는 x < y와 y < z가 모두 참이므로 조건식이 참이 됩니다. 두 번째 if 문에서는 x > y가 거짓이지만 y < z가 참이므로 조건식이 참이 됩니다. 세 번째 if 문에서는 x == y가 거짓이므로 조건식이 참이 됩니다.\n",
        "\n",
        "또한, 논리 연산자의 우선순위는 not이 가장 높고 and가 or보다 높습니다. 따라서, 다음 두 개의 표현식은 동일하지 않습니다.\n",
        "\n",
        "python\n",
        "Copy code\n",
        "if x > 0 or x < 10 and y > 0:\n",
        "python\n",
        "Copy code\n",
        "if (x > 0 or x < 10) and y > 0:\n",
        "첫 번째 표현식에서는 and 연산자가 or 연산자보다 높은 우선순위를 가지므로, x < 10 and y > 0이 먼저 실행됩니다. 두 번째 표현식에서는 괄호가 있으므로 or 연산자가 먼저 실행됩니다."
      ],
      "metadata": {
        "id": "7f_7cfW3whyU"
      }
    },
    {
      "cell_type": "code",
      "source": [
        "#논리연산자\n",
        "print(True and True)\n",
        "print(False or False)\n",
        "print(not True)\n",
        "\n",
        "#산술연산자\n",
        "\n",
        "# 나머지 : %  몫 : // \n",
        "print(47%3)\n",
        "print(47//3)"
      ],
      "metadata": {
        "colab": {
          "base_uri": "https://localhost:8080/"
        },
        "id": "mKabNJomwjzG",
        "outputId": "d1039f67-55bf-4da7-a6e9-8d49fdd15927"
      },
      "execution_count": 1,
      "outputs": [
        {
          "output_type": "stream",
          "name": "stdout",
          "text": [
            "True\n",
            "False\n",
            "False\n"
          ]
        }
      ]
    },
    {
      "cell_type": "code",
      "source": [
        "age =int(input(\"당신의 나이를 숫자로 입력하세요\"))\n",
        "print(\"입력한 나이는 %d 세.%s \"%(age,'입니다'))\n",
        "if age< 19:\n",
        "  print(\"당신은 미성년자입니다\")\n",
        "else:\n",
        "    print(\"성인입니다\")"
      ],
      "metadata": {
        "colab": {
          "base_uri": "https://localhost:8080/"
        },
        "id": "htv00mAi0Ut6",
        "outputId": "3f16c9db-8e4d-436b-a129-ee7075c9646f"
      },
      "execution_count": 11,
      "outputs": [
        {
          "output_type": "stream",
          "name": "stdout",
          "text": [
            "당신의 나이를 숫자로 입력하세요26\n",
            "입력한 나이는 26 세.입니다 \n",
            "성인입니다\n"
          ]
        }
      ]
    },
    {
      "cell_type": "code",
      "source": [
        "print(\"for 문을 배우자!\")\n",
        "print(\"for 문을 배우자!\")\n",
        "print(\"for 문을 배우자!\")\n",
        "print(\"for 문을 배우자!\")\n",
        "print(\"for 문을 배우자!\")\n"
      ],
      "metadata": {
        "id": "oPY0Crce3PP-"
      },
      "execution_count": null,
      "outputs": []
    },
    {
      "cell_type": "code",
      "source": [],
      "metadata": {
        "id": "s-N4KbZR7IVa"
      },
      "execution_count": null,
      "outputs": []
    },
    {
      "cell_type": "code",
      "source": [
        "# for 문자,_ in iterable :\n",
        "#   실행문"
      ],
      "metadata": {
        "id": "efOgAMr_28_f"
      },
      "execution_count": null,
      "outputs": []
    },
    {
      "cell_type": "code",
      "source": [],
      "metadata": {
        "id": "1n33Cq2T5s2q"
      },
      "execution_count": null,
      "outputs": []
    },
    {
      "cell_type": "code",
      "source": [
        "print(range(1,5))\n",
        "print(type(range(1,5)))\n",
        "print(list(range(1,5)))"
      ],
      "metadata": {
        "colab": {
          "base_uri": "https://localhost:8080/"
        },
        "id": "4ObMQn630yDS",
        "outputId": "dc6c752a-35e9-4431-8d5f-bfc640dd964f"
      },
      "execution_count": 14,
      "outputs": [
        {
          "output_type": "stream",
          "name": "stdout",
          "text": [
            "range(1, 5)\n",
            "<class 'range'>\n",
            "[1, 2, 3, 4]\n"
          ]
        }
      ]
    },
    {
      "cell_type": "markdown",
      "source": [
        "range in python 은\n",
        "\n",
        "range() 함수는 Python에서 매우 유용하게 사용되는 내장 함수 중 하나입니다. range() 함수는 정수를 생성하는데 사용되며, 일반적으로 for 루프와 함께 사용됩니다.\n",
        "\n",
        "range() 함수의 기본 형식은 다음과 같습니다.\n",
        "\n",
        "python\n",
        "Copy code\n",
        "range(start, stop, step)\n",
        "start: 시작값을 나타내는 정수. (생략 가능)\n",
        "stop: 마지막 값을 나타내는 정수.\n",
        "step: 증가량을 나타내는 정수. (생략 가능)\n",
        "range() 함수는 start 값부터 stop-1 값까지의 숫자들을 생성합니다. 따라서, range(0, 5)는 0부터 4까지의 정수를 생성하며, range(2, 7)은 2부터 6까지의 정수를 생성합니다. step 값을 지정하면 생성되는 정수의 간격을 조절할 수 있습니다. 예를 들어, range(0, 10, 2)는 0부터 8까지 2씩 증가하는 정수를 생성합니다.\n",
        "\n",
        "range() 함수의 반환값은 iterable한 객체인 range 객체입니다. 이 객체는 리스트 형태로 사용될 수 있습니다. 다음은 range() 함수를 사용한 예시입니다.\n",
        "\n",
        "python\n",
        "Copy code\n",
        "# range() 함수 사용 예시\n",
        "for i in range(5):\n",
        "    print(i)  # 0 1 2 3 4\n",
        "\n",
        "for i in range(2, 7):\n",
        "    print(i)  # 2 3 4 5 6\n",
        "\n",
        "for i in range(0, 10, 2):\n",
        "    print(i)  # 0 2 4 6 8\n",
        "\n",
        "# range() 함수를 리스트로 변환하여 사용\n",
        "my_list = list(range(0, 5))\n",
        "print(my_list)  # [0, 1, 2, 3, 4]"
      ],
      "metadata": {
        "id": "WiWAuUHq67r2"
      }
    },
    {
      "cell_type": "code",
      "source": [
        "from itertools import combinations_with_replacement\n",
        "aa = 'apple'\n",
        "bb = list(aa)\n",
        "print(bb)\n",
        "for char in bb:\n",
        "  print(char)\n",
        "# for i in range(5):\n",
        "#   print(\"for문을 배우자!%d번째 출력\"%(i+1))\n",
        "dd = {\"apple\":3000,\"banana\":2000}"
      ],
      "metadata": {
        "colab": {
          "base_uri": "https://localhost:8080/"
        },
        "id": "Flu-acjk7KP1",
        "outputId": "a1d78b91-d4c5-41c6-a085-b906f01e11f3"
      },
      "execution_count": 19,
      "outputs": [
        {
          "output_type": "stream",
          "name": "stdout",
          "text": [
            "['a', 'p', 'p', 'l', 'e']\n",
            "a\n",
            "p\n",
            "p\n",
            "l\n",
            "e\n"
          ]
        }
      ]
    }
  ]
}