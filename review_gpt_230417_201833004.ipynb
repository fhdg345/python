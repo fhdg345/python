{
  "nbformat": 4,
  "nbformat_minor": 0,
  "metadata": {
    "colab": {
      "provenance": [],
      "authorship_tag": "ABX9TyMOY7w/Jnv7xZCxTe+tFMfF",
      "include_colab_link": true
    },
    "kernelspec": {
      "name": "python3",
      "display_name": "Python 3"
    },
    "language_info": {
      "name": "python"
    }
  },
  "cells": [
    {
      "cell_type": "markdown",
      "metadata": {
        "id": "view-in-github",
        "colab_type": "text"
      },
      "source": [
        "<a href=\"https://colab.research.google.com/github/fhdg345/python/blob/master/review_gpt_230417_201833004.ipynb\" target=\"_parent\"><img src=\"https://colab.research.google.com/assets/colab-badge.svg\" alt=\"Open In Colab\"/></a>"
      ]
    },
    {
      "cell_type": "code",
      "execution_count": 8,
      "metadata": {
        "colab": {
          "base_uri": "https://localhost:8080/"
        },
        "id": "jGZlvGYMnXtE",
        "outputId": "e0720b26-de2e-4a0a-8ef5-4156187b0db4"
      },
      "outputs": [
        {
          "output_type": "stream",
          "name": "stdout",
          "text": [
            "55 25 [1, 3, 5, 7, 9] 30 [2, 4, 6, 8, 10]\n"
          ]
        }
      ],
      "source": [
        "#1부터 10까지의 합\n",
        "sum = 0\n",
        "odd_sum = 0 \n",
        "even_sum = 0\n",
        "odd_list = []\n",
        "even_list = []\n",
        "\n",
        "for i in range(1,11):\n",
        "  sum += i\n",
        "  if i%2==1:\n",
        "    odd_sum += i\n",
        "    odd_list.append(i)\n",
        "  else:\n",
        "    even_sum +=i\n",
        "    even_list.append(i)\n",
        "\n",
        "print(sum,odd_sum,odd_list,even_sum,even_list)\n",
        "\n",
        "\n"
      ]
    },
    {
      "cell_type": "code",
      "source": [
        "print(\"apple\",\"banana1\", end='\\n')\n",
        "print(\"apple\",\"banana2\", sep=\"===>\",end='\\n')\n",
        "print(\"apple\",\"banana3\")\n"
      ],
      "metadata": {
        "colab": {
          "base_uri": "https://localhost:8080/"
        },
        "id": "I-N7b3N9vu62",
        "outputId": "7e31e3eb-b313-48f2-a0b0-e61da251913a"
      },
      "execution_count": 14,
      "outputs": [
        {
          "output_type": "stream",
          "name": "stdout",
          "text": [
            "apple banana1\n",
            "apple===>banana2\n",
            "apple banana3\n"
          ]
        }
      ]
    },
    {
      "cell_type": "code",
      "source": [
        "for i in range(10):\n",
        "  print(i,end=' ')"
      ],
      "metadata": {
        "colab": {
          "base_uri": "https://localhost:8080/"
        },
        "id": "N457eUvxxngd",
        "outputId": "b39822fc-6401-41ed-be4d-2020bc558852"
      },
      "execution_count": 16,
      "outputs": [
        {
          "output_type": "stream",
          "name": "stdout",
          "text": [
            "0 1 2 3 4 5 6 7 8 9 "
          ]
        }
      ]
    },
    {
      "cell_type": "code",
      "source": [
        "\n",
        "print(3+4,3*4)\n",
        "print(\"-\"*10)\n",
        "print([3]+[4] , [3]*4)\n",
        "print(\"-\"*10)\n",
        "print('a'+'b' , 'a'*4)\n",
        "print('----------------------')\n",
        "print(\"-\"*10)\n",
        "\n"
      ],
      "metadata": {
        "colab": {
          "base_uri": "https://localhost:8080/"
        },
        "id": "lKnVnD_7x-H6",
        "outputId": "c800657c-9f7c-4384-a4de-552999482f37"
      },
      "execution_count": 24,
      "outputs": [
        {
          "output_type": "stream",
          "name": "stdout",
          "text": [
            "7 12\n",
            "----------\n",
            "[3, 4] [3, 3, 3, 3]\n",
            "----------\n",
            "ab aaaa\n",
            "----------------------\n",
            "----------\n"
          ]
        }
      ]
    },
    {
      "cell_type": "code",
      "source": [
        "menu_dict={'자장면':5000,'짬뽕':6000 }\n",
        "order = input(\"무엇을 원하시나요?\\n \\n자장면은 1 짬뽕은 2  \")\n",
        "if order =='1' :\n",
        "  print(\"자장면을 주문했어요\\n 가격은 %d입니다\"%(menu_dict['자장면']))\n",
        "elif order =='2':\n",
        "  print(\"자장면을 주문했어요\\n 가격은 %d입니다\"%(menu_dict['짬뽕']))\n",
        "else:\n",
        "  print(\"주문번호는 1과 2로 해주세요\")"
      ],
      "metadata": {
        "colab": {
          "base_uri": "https://localhost:8080/",
          "height": 393
        },
        "id": "ZZxEAWJh4CSh",
        "outputId": "3c60a6ae-6975-4f1e-d27d-3ca42f750c59"
      },
      "execution_count": 50,
      "outputs": [
        {
          "output_type": "error",
          "ename": "KeyboardInterrupt",
          "evalue": "ignored",
          "traceback": [
            "\u001b[0;31m---------------------------------------------------------------------------\u001b[0m",
            "\u001b[0;31mKeyboardInterrupt\u001b[0m                         Traceback (most recent call last)",
            "\u001b[0;32m<ipython-input-50-4af922e252f1>\u001b[0m in \u001b[0;36m<cell line: 2>\u001b[0;34m()\u001b[0m\n\u001b[1;32m      1\u001b[0m \u001b[0mmenu_dict\u001b[0m\u001b[0;34m=\u001b[0m\u001b[0;34m{\u001b[0m\u001b[0;34m'자장면'\u001b[0m\u001b[0;34m:\u001b[0m\u001b[0;36m5000\u001b[0m\u001b[0;34m,\u001b[0m\u001b[0;34m'짬뽕'\u001b[0m\u001b[0;34m:\u001b[0m\u001b[0;36m6000\u001b[0m \u001b[0;34m}\u001b[0m\u001b[0;34m\u001b[0m\u001b[0;34m\u001b[0m\u001b[0m\n\u001b[0;32m----> 2\u001b[0;31m \u001b[0morder\u001b[0m \u001b[0;34m=\u001b[0m \u001b[0minput\u001b[0m\u001b[0;34m(\u001b[0m\u001b[0;34m\"무엇을 원하시나요?\\n \\n자장면은 1 짬뽕은 2  \"\u001b[0m\u001b[0;34m)\u001b[0m\u001b[0;34m\u001b[0m\u001b[0;34m\u001b[0m\u001b[0m\n\u001b[0m\u001b[1;32m      3\u001b[0m \u001b[0;32mif\u001b[0m \u001b[0morder\u001b[0m \u001b[0;34m==\u001b[0m\u001b[0;34m'1'\u001b[0m \u001b[0;34m:\u001b[0m\u001b[0;34m\u001b[0m\u001b[0;34m\u001b[0m\u001b[0m\n\u001b[1;32m      4\u001b[0m   \u001b[0mprint\u001b[0m\u001b[0;34m(\u001b[0m\u001b[0;34m\"자장면을 주문했어요\\n 가격은 %d입니다\"\u001b[0m\u001b[0;34m%\u001b[0m\u001b[0;34m(\u001b[0m\u001b[0mmenu_dict\u001b[0m\u001b[0;34m[\u001b[0m\u001b[0;34m'자장면'\u001b[0m\u001b[0;34m]\u001b[0m\u001b[0;34m)\u001b[0m\u001b[0;34m)\u001b[0m\u001b[0;34m\u001b[0m\u001b[0;34m\u001b[0m\u001b[0m\n\u001b[1;32m      5\u001b[0m \u001b[0;32melif\u001b[0m \u001b[0morder\u001b[0m \u001b[0;34m==\u001b[0m\u001b[0;34m'2'\u001b[0m\u001b[0;34m:\u001b[0m\u001b[0;34m\u001b[0m\u001b[0;34m\u001b[0m\u001b[0m\n",
            "\u001b[0;32m/usr/local/lib/python3.9/dist-packages/ipykernel/kernelbase.py\u001b[0m in \u001b[0;36mraw_input\u001b[0;34m(self, prompt)\u001b[0m\n\u001b[1;32m    849\u001b[0m                 \u001b[0;34m\"raw_input was called, but this frontend does not support input requests.\"\u001b[0m\u001b[0;34m\u001b[0m\u001b[0;34m\u001b[0m\u001b[0m\n\u001b[1;32m    850\u001b[0m             )\n\u001b[0;32m--> 851\u001b[0;31m         return self._input_request(str(prompt),\n\u001b[0m\u001b[1;32m    852\u001b[0m             \u001b[0mself\u001b[0m\u001b[0;34m.\u001b[0m\u001b[0m_parent_ident\u001b[0m\u001b[0;34m,\u001b[0m\u001b[0;34m\u001b[0m\u001b[0;34m\u001b[0m\u001b[0m\n\u001b[1;32m    853\u001b[0m             \u001b[0mself\u001b[0m\u001b[0;34m.\u001b[0m\u001b[0m_parent_header\u001b[0m\u001b[0;34m,\u001b[0m\u001b[0;34m\u001b[0m\u001b[0;34m\u001b[0m\u001b[0m\n",
            "\u001b[0;32m/usr/local/lib/python3.9/dist-packages/ipykernel/kernelbase.py\u001b[0m in \u001b[0;36m_input_request\u001b[0;34m(self, prompt, ident, parent, password)\u001b[0m\n\u001b[1;32m    893\u001b[0m             \u001b[0;32mexcept\u001b[0m \u001b[0mKeyboardInterrupt\u001b[0m\u001b[0;34m:\u001b[0m\u001b[0;34m\u001b[0m\u001b[0;34m\u001b[0m\u001b[0m\n\u001b[1;32m    894\u001b[0m                 \u001b[0;31m# re-raise KeyboardInterrupt, to truncate traceback\u001b[0m\u001b[0;34m\u001b[0m\u001b[0;34m\u001b[0m\u001b[0m\n\u001b[0;32m--> 895\u001b[0;31m                 \u001b[0;32mraise\u001b[0m \u001b[0mKeyboardInterrupt\u001b[0m\u001b[0;34m(\u001b[0m\u001b[0;34m\"Interrupted by user\"\u001b[0m\u001b[0;34m)\u001b[0m \u001b[0;32mfrom\u001b[0m \u001b[0;32mNone\u001b[0m\u001b[0;34m\u001b[0m\u001b[0;34m\u001b[0m\u001b[0m\n\u001b[0m\u001b[1;32m    896\u001b[0m             \u001b[0;32mexcept\u001b[0m \u001b[0mException\u001b[0m \u001b[0;32mas\u001b[0m \u001b[0me\u001b[0m\u001b[0;34m:\u001b[0m\u001b[0;34m\u001b[0m\u001b[0;34m\u001b[0m\u001b[0m\n\u001b[1;32m    897\u001b[0m                 \u001b[0mself\u001b[0m\u001b[0;34m.\u001b[0m\u001b[0mlog\u001b[0m\u001b[0;34m.\u001b[0m\u001b[0mwarning\u001b[0m\u001b[0;34m(\u001b[0m\u001b[0;34m\"Invalid Message:\"\u001b[0m\u001b[0;34m,\u001b[0m \u001b[0mexc_info\u001b[0m\u001b[0;34m=\u001b[0m\u001b[0;32mTrue\u001b[0m\u001b[0;34m)\u001b[0m\u001b[0;34m\u001b[0m\u001b[0;34m\u001b[0m\u001b[0m\n",
            "\u001b[0;31mKeyboardInterrupt\u001b[0m: Interrupted by user"
          ]
        }
      ]
    },
    {
      "cell_type": "code",
      "source": [
        "ex_string = \"apple, banana\"\n",
        "print(ex_string)\n",
        "ex_string_list = list(ex_string)\n",
        "print(ex_string_list)\n",
        "\n",
        "# for char in ex_string:\n",
        "#   print(char, end=' ')\n",
        "print(\"----------\")\n",
        "ex_string_clean = ex_string.replace(\" \",\"\")\n",
        "ex_string_clean = ex_string_clean.replace(\",\",\" \")\n",
        "print(ex_string)\n",
        "print(\"----------\")\n",
        "print(ex_string_clean)\n",
        "\n",
        "for char in ex_string:\n",
        "  print(char, end=' ')\n",
        "print()\n",
        "print(list(ex_string_clean))\n",
        "# print(type(ex_string))\n",
        "# print(type(ex_string_list))"
      ],
      "metadata": {
        "id": "gsQ2LEgs8IET"
      },
      "execution_count": null,
      "outputs": []
    },
    {
      "cell_type": "code",
      "source": [
        "test_string = 'apple'\n",
        "char_dict = {}\n",
        "for char in test_string:\n",
        "  print(char)\n",
        "  if char in char_dict:\n",
        "    char_dict[char] = char_dict[char] +1\n",
        "  else:\n",
        "    char_dict[char]=1\n",
        "    print(char,'===>', char_dict)\n",
        "print(char_dict)"
      ],
      "metadata": {
        "colab": {
          "base_uri": "https://localhost:8080/"
        },
        "id": "erf52eYI_dIo",
        "outputId": "1334ca28-88d0-4b53-b26a-b51ca73356be"
      },
      "execution_count": 59,
      "outputs": [
        {
          "output_type": "stream",
          "name": "stdout",
          "text": [
            "a\n",
            "a ===> {'a': 1}\n",
            "p\n",
            "p ===> {'a': 1, 'p': 1}\n",
            "p\n",
            "l\n",
            "l ===> {'a': 1, 'p': 2, 'l': 1}\n",
            "e\n",
            "e ===> {'a': 1, 'p': 2, 'l': 1, 'e': 1}\n",
            "{'a': 1, 'p': 2, 'l': 1, 'e': 1}\n"
          ]
        }
      ]
    }
  ]
}