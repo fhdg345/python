{
  "nbformat": 4,
  "nbformat_minor": 0,
  "metadata": {
    "colab": {
      "provenance": [],
      "authorship_tag": "ABX9TyOEg6Z5nsfbdH5jUEJmXlJ2",
      "include_colab_link": true
    },
    "kernelspec": {
      "name": "python3",
      "display_name": "Python 3"
    },
    "language_info": {
      "name": "python"
    }
  },
  "cells": [
    {
      "cell_type": "markdown",
      "metadata": {
        "id": "view-in-github",
        "colab_type": "text"
      },
      "source": [
        "<a href=\"https://colab.research.google.com/github/fhdg345/Assignment/blob/master/%EC%97%B0%EC%82%B0%EC%9E%90201833004.ipynb\" target=\"_parent\"><img src=\"https://colab.research.google.com/assets/colab-badge.svg\" alt=\"Open In Colab\"/></a>"
      ]
    },
    {
      "cell_type": "code",
      "execution_count": null,
      "metadata": {
        "id": "DV9Vn2n2bbni"
      },
      "outputs": [],
      "source": []
    },
    {
      "cell_type": "code",
      "source": [
        "myVar = 100\n",
        "type(myVar)\n",
        "myVar = 100.0\n",
        "type(myVar)"
      ],
      "metadata": {
        "colab": {
          "base_uri": "https://localhost:8080/"
        },
        "id": "P5M9P7w3cInL",
        "outputId": "9146d690-4404-4c47-e2ca-fb3f880b326a"
      },
      "execution_count": null,
      "outputs": [
        {
          "output_type": "execute_result",
          "data": {
            "text/plain": [
              "float"
            ]
          },
          "metadata": {},
          "execution_count": 1
        }
      ]
    },
    {
      "cell_type": "code",
      "source": [
        "a =10\n",
        "print(type(a))"
      ],
      "metadata": {
        "colab": {
          "base_uri": "https://localhost:8080/"
        },
        "id": "QsZeXf7_f3SQ",
        "outputId": "2289d20b-d49f-4602-d0d5-65b024040e68"
      },
      "execution_count": null,
      "outputs": [
        {
          "output_type": "stream",
          "name": "stdout",
          "text": [
            "<class 'int'>\n"
          ]
        }
      ]
    },
    {
      "cell_type": "code",
      "source": [
        "b =3.14\n",
        "print(type(b))\n",
        "c = \"hello world\"\n",
        "print(type(c)) \n",
        "d = True\n",
        "print(type(d))"
      ],
      "metadata": {
        "colab": {
          "base_uri": "https://localhost:8080/"
        },
        "id": "M90MVKlSgA2i",
        "outputId": "41f4256f-e4fe-4a52-c269-e0c571e39ab3"
      },
      "execution_count": null,
      "outputs": [
        {
          "output_type": "stream",
          "name": "stdout",
          "text": [
            "<class 'float'>\n",
            "<class 'str'>\n",
            "<class 'bool'>\n"
          ]
        }
      ]
    },
    {
      "cell_type": "code",
      "source": [
        "e = True\n",
        "print(type(e))\n",
        "print(int(e))\n",
        "f = False\n",
        "print(type(f))\n",
        "print(int(f))"
      ],
      "metadata": {
        "colab": {
          "base_uri": "https://localhost:8080/"
        },
        "id": "JuSN-yuOjcSC",
        "outputId": "a725c6a9-e6b4-4aa4-f37f-26d58854dac7"
      },
      "execution_count": null,
      "outputs": [
        {
          "output_type": "stream",
          "name": "stdout",
          "text": [
            "<class 'bool'>\n",
            "1\n",
            "<class 'bool'>\n",
            "0\n"
          ]
        }
      ]
    },
    {
      "cell_type": "markdown",
      "source": [
        "진수 타입 in python\n",
        "파이썬은 다양한 진수 타입을 지원합니다.\n",
        "\n",
        "10진수(decimal): 일반적으로 사용하는 0~9의 숫자 체계\n",
        "2진수(binary): 0과 1의 숫자 체계, 숫자 앞에 0b 접두어를 붙입니다.\n",
        "8진수(octal): 0~7의 숫자 체계, 숫자 앞에 0o 접두어를 붙입니다.\n",
        "16진수(hexadecimal): 09와 AF의 숫자 체계, 숫자 앞에 0x 접두어를 붙입니다."
      ],
      "metadata": {
        "id": "xE3Y0EpSk9oe"
      }
    },
    {
      "cell_type": "code",
      "source": [
        "decimal_num = 42\n",
        "binary_num = bin(decimal_num)\n",
        "octal_num = oct(decimal_num)\n",
        "hex_num = hex(decimal_num)\n",
        "\n",
        "print(binary_num)  # 출력: 0b101010\n",
        "print(octal_num)  # 출력: 0o52\n",
        "print(hex_num)  # 출력: 0x2a"
      ],
      "metadata": {
        "colab": {
          "base_uri": "https://localhost:8080/"
        },
        "id": "kje-oqBrk_Iy",
        "outputId": "a8cf01b9-5bb9-4409-bf8d-db7799bbf2fe"
      },
      "execution_count": null,
      "outputs": [
        {
          "output_type": "stream",
          "name": "stdout",
          "text": [
            "0b101010\n",
            "0o52\n",
            "0x2a\n"
          ]
        }
      ]
    },
    {
      "cell_type": "markdown",
      "source": [
        "변수 타입 in python\n",
        "파이썬은 동적 타이핑 언어이므로 변수를 선언할 때 데이터 타입을 명시할 필요가 없습니다. 변수는 값이 할당될 때 자동으로 해당 값의 데이터 타입에 맞춰집니다.\n",
        "\n",
        "파이썬의 기본 데이터 타입으로는 다음과 같은 것들이 있습니다:\n",
        "\n",
        "숫자 (Number): 정수 (int), 실수 (float), 복소수 (complex)\n",
        "문자열 (String): 작은따옴표(')나 큰따옴표(\")로 둘러싸인 문자열\n",
        "불리언 (Boolean): True 또는 False\n",
        "None: 값이 없음을 나타내는 객체\n",
        "변수의 데이터 타입은 변수에 할당된 값에 따라 동적으로 결정됩니다. 예를 들어, 다음과 같은 코드에서 x 변수는 정수(int) 타입으로 자동으로 결정됩니다.\n",
        "\n",
        "python\n",
        "Copy code\n",
        "x = 42\n",
        "변수의 데이터 타입을 확인하려면 type() 함수를 사용합니다. 예를 들어, 다음과 같은 코드에서 type(x)는 int를 반환합니다.\n",
        "\n",
        "python\n",
        "Copy code\n",
        "x = 42\n",
        "print(type(x))  # 출력: <class 'int'>\n"
      ],
      "metadata": {
        "id": "ocWgjzrAfcFv"
      }
    },
    {
      "cell_type": "code",
      "source": [],
      "metadata": {
        "id": "-dCWW8Ghf2th"
      },
      "execution_count": null,
      "outputs": []
    },
    {
      "cell_type": "markdown",
      "source": [
        "연산자 in python\n",
        "파이썬에서는 다양한 연산자를 지원합니다. 아래는 파이썬에서 사용할 수 있는 주요 연산자들입니다.\n",
        "\n",
        "산술 연산자(Arithmetic Operators): 덧셈(+), 뺄셈(-), 곱셈(*), 나눗셈(/), 나머지 연산자(%), 거듭제곱(**)\n",
        "python\n",
        "Copy code\n",
        "a = 10\n",
        "b = 3\n",
        "print(a + b)  # 출력: 13\n",
        "print(a - b)  # 출력: 7\n",
        "print(a * b)  # 출력: 30\n",
        "print(a / b)  # 출력: 3.3333333333333335\n",
        "print(a % b)  # 출력: 1\n",
        "print(a ** b)  # 출력: 1000\n",
        "할당 연산자(Assignment Operators): 변수에 값을 할당하는 연산자\n",
        "python\n",
        "Copy code\n",
        "a = 10\n",
        "a += 5  # a = a + 5 와 같은 의미\n",
        "print(a)  # 출력: 15\n",
        "비교 연산자(Comparison Operators): 두 값의 비교 결과를 불리언으로 반환하는 연산자\n",
        "python\n",
        "Copy code\n",
        "a = 10\n",
        "b = 20\n",
        "print(a == b)  # 출력: False\n",
        "print(a != b)  # 출력: True\n",
        "print(a < b)  # 출력: True\n",
        "print(a > b)  # 출력: False\n",
        "print(a <= b)  # 출력: True\n",
        "print(a >= b)  # 출력: False\n",
        "논리 연산자(Logical Operators): 불리언 값에 대한 논리 연산을 수행하는 연산자\n",
        "python\n",
        "Copy code\n",
        "a = True\n",
        "b = False\n",
        "print(a and b)  # 출력: False\n",
        "print(a or b)  # 출력: True\n",
        "print(not a)  # 출력: False\n",
        "비트 연산자(Bitwise Operators): 비트 단위의 연산을 수행하는 연산자\n",
        "python\n",
        "Copy code\n",
        "a = 0b1010\n",
        "b = 0b1100\n",
        "print(a & b)  # 출력: 0b1000 (AND)\n",
        "print(a | b)  # 출력: 0b1110 (OR)\n",
        "print(a ^ b)  # 출력: 0b0110 (XOR)\n",
        "print(~a)  # 출력: -11 (NOT)\n",
        "print(a << 2)  # 출력: 0b101000 (LEFT SHIFT)\n",
        "print(b >> 2)  # 출력: 0b0011 (RIGHT SHIFT)\n",
        "멤버 연산자(Membership Operators): 값이 시퀀스에 속해 있는지 확인하는 연산자\n",
        "python\n",
        "Copy code\n",
        "a = [1, 2, 3]\n",
        "print(2 in a)  # 출력: True\n",
        "print(4 not in a)  # 출력: True\n",
        "식별 연산자(Identity Operators): 두 객체가 동일한 객체인지 확인하는 연산자\n",
        "python\n",
        "Copy code\n",
        "a = [1, 2, 3]\n",
        "b = [1, 2, 3]\n",
        "print(a is b)  # 출력: False\n",
        "print(a is not b)  # 출력: True"
      ],
      "metadata": {
        "id": "yZ05pWjYmVb2"
      }
    },
    {
      "cell_type": "code",
      "source": [],
      "metadata": {
        "id": "2Ttd--oAmYlO"
      },
      "execution_count": null,
      "outputs": []
    },
    {
      "cell_type": "markdown",
      "source": [
        "파이썬에서 list는 여러 개의 값을 순서대로 저장하는 데이터 타입입니다. 리스트는 **대괄호**([])를 사용하여 생성하며, 각 요소들은 쉼표(,)로 구분됩니다. 리스트 안에는 다양한 타입의 요소를 포함할 수 있습니다."
      ],
      "metadata": {
        "id": "V50Gyw5XupRU"
      }
    },
    {
      "cell_type": "code",
      "source": [
        "my_list = [1, 2, 3, 4, 5]\n",
        "print(my_list)   # [1, 2, 3, 'four', 5.0]\n",
        "print(type(my_list))\n",
        "print(my_list[0:3]) # 0 : 3 ====> 0,1,2\n",
        "print(my_list[:3])\n",
        "print(my_list[:-2])\n",
        "print(my_list[-1])\n",
        "print(my_list[:-1])\n",
        "print(my_list[:])\n",
        "print(range(1,6))\n",
        "print(list(range(1,10,2)))\n",
        "another_list = list(range(1,6))\n",
        "print(another_list)\n"
      ],
      "metadata": {
        "colab": {
          "base_uri": "https://localhost:8080/"
        },
        "id": "Rzu_6E4Guvpu",
        "outputId": "17e23879-b218-41c8-ec8f-bf24544aabc9"
      },
      "execution_count": 31,
      "outputs": [
        {
          "output_type": "stream",
          "name": "stdout",
          "text": [
            "[1, 2, 3, 'four', 5.0]\n",
            "<class 'list'>\n",
            "[1, 2, 3]\n",
            "[1, 2, 3]\n",
            "[1, 2, 3]\n",
            "5.0\n",
            "[1, 2, 3, 'four']\n",
            "[1, 2, 3, 'four', 5.0]\n",
            "range(1, 6)\n",
            "[1, 3, 5, 7, 9]\n",
            "[1, 2, 3, 4, 5]\n"
          ]
        }
      ]
    },
    {
      "cell_type": "code",
      "source": [
        "my_list = [1, 2, 3, 4, 5]\n",
        "print(my_list)   \n",
        "my_list.append(7)\n",
        "print(my_list)\n",
        "my_list.append(\"aaa\")\n",
        "print(my_list)"
      ],
      "metadata": {
        "colab": {
          "base_uri": "https://localhost:8080/"
        },
        "id": "b23DkMgl0vBF",
        "outputId": "3c3989a4-5f16-4cb6-bcaa-88dcb8fc0e2e"
      },
      "execution_count": 35,
      "outputs": [
        {
          "output_type": "stream",
          "name": "stdout",
          "text": [
            "[1, 2, 3, 4, 5]\n",
            "[1, 2, 3, 4, 5, 7]\n",
            "[1, 2, 3, 4, 5, 7, 'aaa']\n"
          ]
        }
      ]
    },
    {
      "cell_type": "markdown",
      "source": [
        "튜플(tuple)은 파이썬에서 가장 기본적인 데이터 타입 중 하나이며, 리스트와 유사한 데이터 타입입니다. 하지만 리스트와 달리 한 번 생성된 튜플은 수정할 수 없습니다(immutable). 이러한 특징 때문에 튜플은 주로 데이터의 불변성이 필요한 경우에 사용됩니다.\n",
        "\n",
        "튜플은 소괄호()를 사용하여 생성하며, 콤마(,)로 구분된 값의 목록으로 이루어집니다. 예를 들어, 다음과 같이 튜플을 생성할 수 있습니다."
      ],
      "metadata": {
        "id": "I6gd0lhR3Odb"
      }
    },
    {
      "cell_type": "code",
      "source": [
        "aaa = (1,2,3)\n",
        "bbb = 4,5,6\n",
        "\n",
        "print(aaa)\n",
        "print(bbb)\n",
        "print(type(aaa))\n",
        "print(type(bbb))\n",
        "\n",
        "print(aaa[1])"
      ],
      "metadata": {
        "colab": {
          "base_uri": "https://localhost:8080/"
        },
        "id": "CvtIBCNC3TNN",
        "outputId": "9f22dd34-dea0-442a-a590-eaba902e540c"
      },
      "execution_count": 37,
      "outputs": [
        {
          "output_type": "stream",
          "name": "stdout",
          "text": [
            "(1, 2, 3)\n",
            "(4, 5, 6)\n",
            "<class 'tuple'>\n",
            "<class 'tuple'>\n",
            "2\n"
          ]
        }
      ]
    }
  ]
}